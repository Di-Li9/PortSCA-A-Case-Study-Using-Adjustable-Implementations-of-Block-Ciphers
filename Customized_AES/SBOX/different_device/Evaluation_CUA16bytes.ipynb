{
 "cells": [
  {
   "cell_type": "code",
   "execution_count": 20,
   "metadata": {},
   "outputs": [],
   "source": [
    "import sys\n",
    "import os\n",
    "parent_dir = os.path.abspath(os.path.join(os.getcwd(), '..'))\n",
    "sys.path.append(parent_dir)\n",
    "import tensorflow as tf\n",
    "from sklearn import preprocessing\n",
    "import numpy as np\n",
    "import random\n",
    "import matplotlib.pyplot as plt\n",
    "import sys\n",
    "import pandas as pd\n",
    "from AES import*\n",
    "from Model.CNN import cnn_classifier\n",
    "from sklearn.model_selection import train_test_split\n",
    "from collections import Counter\n",
    "from scipy.stats import mode\n",
    "from utils.LoadData import load_CW_Source,load_CW_Target\n",
    "from sklearn.utils import shuffle\n",
    "from DANN_trainer import DANN\n",
    "from utils.DANN_config import config\n",
    "from keras.backend import clear_session"
   ]
  },
  {
   "cell_type": "code",
   "execution_count": 21,
   "metadata": {},
   "outputs": [],
   "source": [
    "def Evalution_CUA(models, profiling_Data_path, Target_Data_path, p_attack_to_label_total, p_v_box,is_transferred):\n",
    "    acc_total=[]\n",
    "    # Main experiment loop (single iteration: 10000 traces only)\n",
    "    for t_num in range(1000, 10001, 1000):  # Range generates [10000] only\n",
    "        # Byte position iteration (0-15 for 16-byte blocks)\n",
    "        for byte in range(0, 16):\n",
    "            # Load profiling traces (template attack dataset)\n",
    "            profiling_traces, _, _, _, _, _ = load_CW_Source(\n",
    "                in_file=profiling_Data_path,\n",
    "                sec=18000,  # Fixed security parameter from original implementation\n",
    "                byte=byte\n",
    "            )\n",
    "            # Load attack traces and associated data\n",
    "            X_attack, label_V, p_attack = load_CW_Target(\n",
    "                in_file=Target_Data_path,\n",
    "                byte=byte\n",
    "            )\n",
    "\n",
    "            # Slice datasets with shuffling \n",
    "            X_attack, label_V, p_attack = shuffle(X_attack, label_V, p_attack)\n",
    "\n",
    "            \n",
    "            X_attack_shuffle = X_attack[:t_num]  # Use first t_num traces\n",
    "            label_V_shuffle = label_V[:t_num]\n",
    "            p_attack_shuffle = p_attack[:t_num]\n",
    "            \n",
    "            # Model inference using pre-trained byte-specific model\n",
    "            if(is_transferred):\n",
    "                scaler = preprocessing.StandardScaler()\n",
    "                X_attack_shuffle = scaler.fit_transform(X_attack_shuffle)\n",
    "      \n",
    "                \n",
    "                predictions,_ = models[byte].dann_model(X_attack_shuffle)  # models loaded externally\n",
    "            else:\n",
    "                # Preprocessing pipeline\n",
    "                scaler = preprocessing.StandardScaler()\n",
    "                X_attack_shuffle = scaler.fit_transform(X_attack_shuffle)\n",
    "                \n",
    "                scaler = preprocessing.MinMaxScaler(feature_range=(0, 1))\n",
    "                X_attack_shuffle = scaler.fit_transform(X_attack_shuffle)\n",
    "\n",
    "                predictions= models[byte].predict(X_attack_shuffle)  # models loaded externally\n",
    "\n",
    "            # Process prediction results\n",
    "            A = np.squeeze(predictions)  # Remove singleton dimensions\n",
    "            B = np.squeeze(p_attack_shuffle)\n",
    "            df = pd.DataFrame({'traces': list(A), 'plaintext': list(B)})  # Maintain column names\n",
    "            \n",
    "            # Aggregate predictions by plaintext value\n",
    "            sum_by_plaintext = df.groupby('plaintext')['traces'].sum()\n",
    "            \n",
    "            # Populate key guess matrix\n",
    "            for j in range(256):  # All possible byte values (0-255)\n",
    "                if j in sum_by_plaintext.index:  # Check if plaintext exists in data\n",
    "                    # Store index with maximum prediction sum\n",
    "                    p_v_box[byte, j] = np.argmax(sum_by_plaintext.loc[j])\n",
    "                else:\n",
    "                    p_v_box[byte, j] = -1  # Mark missing entries\n",
    "\n",
    "        # Calculate byte-wise accuracy\n",
    "        acc = []\n",
    "        for i in range(0, 16):  # Iterate through all bytes\n",
    "            total_num = 0.0  # Total valid predictions counter\n",
    "            acc_num = 0.0    # Correct predictions counter\n",
    "            for p in range(256):  # All possible plaintext values\n",
    "                if p_v_box[i][p] == -1:  # Skip invalid entries\n",
    "                    continue\n",
    "                if p_v_box[i][p] == p_attack_to_label_total[i][p]:  # Compare with ground truth\n",
    "                    acc_num += 1\n",
    "                total_num += 1\n",
    "            # Store accuracy for current byte\n",
    "            acc.append(acc_num / total_num if total_num > 0 else 0.0)\n",
    "        acc_total.append(acc)  # Store experiment results\n",
    "    \n",
    "    return acc_total"
   ]
  },
  {
   "cell_type": "markdown",
   "metadata": {},
   "source": [
    "<b> Source Model-Target(SM4)"
   ]
  },
  {
   "cell_type": "code",
   "execution_count": 22,
   "metadata": {},
   "outputs": [
    {
     "data": {
      "text/plain": [
       "array([0.23302057, 0.26318359, 0.27832031, 0.26098633, 0.25      ,\n",
       "       0.25976562, 0.24487305, 0.25366211, 0.23583984, 0.23071289])"
      ]
     },
     "execution_count": 22,
     "metadata": {},
     "output_type": "execute_result"
    }
   ],
   "source": [
    "# Main parameter initialization\n",
    "acc_total = []  # Stores accuracy results for each experiment\n",
    "p_v_box = np.zeros((16, 256))  # Initialize key guess matrix (16 bytes × 256 possible values)\n",
    "profiling_Data_path='../Dataset/AES_device2/'\n",
    "Target_Data_path='../Dataset/SM4_device1/'\n",
    "model_path = '../Model/'\n",
    "\n",
    "# Initialize data structures\n",
    "pk_v_box = np.zeros((256, 256))  # Mapping from p^k to v (256 possible inputs × 256 possible outputs)\n",
    "p_v_box = np.zeros((16, 256))    # Mapping from plaintext to value (16 bytes × 256 possible values)\n",
    "acc_total = []  \n",
    "\n",
    "# Build ground truth reference for validation\n",
    "p_attack_to_label_total = []     # Stores true labels for each (byte, plaintext) pair\n",
    "for byte in range(16):           # Process all 16 bytes\n",
    "    # Load target device data\n",
    "    X_attack, label_V, p_attack = load_CW_Target(\n",
    "        in_file=Target_Data_path,\n",
    "        byte=byte\n",
    "    )\n",
    "    # Create mapping: {plaintext → true_label} for accuracy verification\n",
    "    p_attack_to_label_total.append({\n",
    "        p: np.unique(label_V[p_attack == p])  # Get consensus label for each plaintext\n",
    "        for p in range(256)                   # All possible plaintext values (0-255)\n",
    "    })\n",
    "\n",
    "# Load pre-trained models\n",
    "models = []\n",
    "for byte in range(0,16):\n",
    "    tf.keras.backend.clear_session()\n",
    "    model = cnn_classifier(input_size=800)\n",
    "    model_name = f'Source_Model_byte{byte}_D2.h5'\n",
    "    model.load_weights(model_path + model_name)\n",
    "    models.append(model)  \n",
    "\n",
    "SourceModel_ACC=Evalution_CUA(models,profiling_Data_path,Target_Data_path,p_attack_to_label_total,p_v_box,0)\n",
    "\n",
    "SourceModel_SM4_ACC_avg = np.mean(np.array(SourceModel_ACC), axis=1)\n",
    "SourceModel_SM4_ACC_avg"
   ]
  },
  {
   "cell_type": "markdown",
   "metadata": {},
   "source": [
    "<b> Transfer Model-Target(SM4)"
   ]
  },
  {
   "cell_type": "code",
   "execution_count": 23,
   "metadata": {},
   "outputs": [
    {
     "data": {
      "text/plain": [
       "array([0.63869326, 0.80026329, 0.84936523, 0.87695312, 0.88427734,\n",
       "       0.89404297, 0.90014648, 0.90209961, 0.90185547, 0.90234375])"
      ]
     },
     "execution_count": 23,
     "metadata": {},
     "output_type": "execute_result"
    }
   ],
   "source": [
    "# Main parameter initialization\n",
    "acc_total = []  # Stores accuracy results for each experiment\n",
    "p_v_box = np.zeros((16, 256))  # Initialize key guess matrix (16 bytes × 256 possible values)\n",
    "profiling_Data_path='../Dataset/AES_device2/'\n",
    "Target_Data_path='../Dataset/SM4_device1/'\n",
    "model_path = '../Model/'\n",
    "\n",
    "# Initialize data structures\n",
    "pk_v_box = np.zeros((256, 256))  # Mapping from p^k to v (256 possible inputs × 256 possible outputs)\n",
    "p_v_box = np.zeros((16, 256))    # Mapping from plaintext to value (16 bytes × 256 possible values)\n",
    "acc_total = []  \n",
    "\n",
    "# Build ground truth reference for validation\n",
    "p_attack_to_label_total = []     # Stores true labels for each (byte, plaintext) pair\n",
    "for byte in range(16):           # Process all 16 bytes\n",
    "    # Load target device data\n",
    "    X_attack, label_V, p_attack = load_CW_Target(\n",
    "        in_file=Target_Data_path,\n",
    "        byte=byte\n",
    "    )\n",
    "    # Create mapping: {plaintext → true_label} for accuracy verification\n",
    "    p_attack_to_label_total.append({\n",
    "        p: np.unique(label_V[p_attack == p])  # Get consensus label for each plaintext\n",
    "        for p in range(256)                   # All possible plaintext values (0-255)\n",
    "    })\n",
    "\n",
    "# Load pre-trained models\n",
    "models = []\n",
    "for byte in range(0,16):\n",
    "    clear_session()\n",
    "    tf.keras.backend.clear_session()\n",
    "    model_name = f'Transfer_Model_byte{byte}.h5'\n",
    "    \n",
    "    cfg = config(pre_model_path=model_path + model_name)\n",
    "    dann = DANN(cfg)  \n",
    "    models.append(dann)  \n",
    "\n",
    "TransferModel_ACC=Evalution_CUA(models,profiling_Data_path,Target_Data_path,p_attack_to_label_total,p_v_box,1)\n",
    "\n",
    "TransferModel_SM4_ACC_avg = np.mean(np.array(TransferModel_ACC), axis=1)\n",
    "TransferModel_SM4_ACC_avg"
   ]
  },
  {
   "cell_type": "markdown",
   "metadata": {},
   "source": [
    "<b> Source Model-Target(Skinny)"
   ]
  },
  {
   "cell_type": "code",
   "execution_count": 24,
   "metadata": {},
   "outputs": [
    {
     "data": {
      "text/plain": [
       "array([0.27103082, 0.2803079 , 0.2722168 , 0.26025391, 0.26245117,\n",
       "       0.24462891, 0.25439453, 0.25073242, 0.25878906, 0.23461914])"
      ]
     },
     "execution_count": 24,
     "metadata": {},
     "output_type": "execute_result"
    }
   ],
   "source": [
    "# Main parameter initialization\n",
    "acc_total = []  # Stores accuracy results for each experiment\n",
    "p_v_box = np.zeros((16, 256))  # Initialize key guess matrix (16 bytes × 256 possible values)\n",
    "profiling_Data_path='../Dataset/AES_device2/'\n",
    "Target_Data_path='../Dataset/Skinny_device1/'\n",
    "model_path = '../Model/'\n",
    "\n",
    "# Initialize data structures\n",
    "pk_v_box = np.zeros((256, 256))  # Mapping from p^k to v (256 possible inputs × 256 possible outputs)\n",
    "p_v_box = np.zeros((16, 256))    # Mapping from plaintext to value (16 bytes × 256 possible values)\n",
    "acc_total = []  \n",
    "\n",
    "# Build ground truth reference for validation\n",
    "p_attack_to_label_total = []     # Stores true labels for each (byte, plaintext) pair\n",
    "for byte in range(16):           # Process all 16 bytes\n",
    "    # Load target device data\n",
    "    X_attack, label_V, p_attack = load_CW_Target(\n",
    "        in_file=Target_Data_path,\n",
    "        byte=byte\n",
    "    )\n",
    "    # Create mapping: {plaintext → true_label} for accuracy verification\n",
    "    p_attack_to_label_total.append({\n",
    "        p: np.unique(label_V[p_attack == p])  # Get consensus label for each plaintext\n",
    "        for p in range(256)                   # All possible plaintext values (0-255)\n",
    "    })\n",
    "\n",
    "# Load pre-trained models\n",
    "models = []\n",
    "for byte in range(0,16):\n",
    "    tf.keras.backend.clear_session()\n",
    "    model = cnn_classifier(input_size=800)\n",
    "    model_name = f'Source_Model_byte{byte}_D2.h5'\n",
    "    model.load_weights(model_path + model_name)\n",
    "    models.append(model)  \n",
    "\n",
    "SourceModel_ACC=Evalution_CUA(models,profiling_Data_path,Target_Data_path,p_attack_to_label_total,p_v_box,0)\n",
    "\n",
    "SourceModel_Skinny_ACC_avg = np.mean(np.array(SourceModel_ACC), axis=1)\n",
    "SourceModel_Skinny_ACC_avg"
   ]
  },
  {
   "cell_type": "markdown",
   "metadata": {},
   "source": [
    "<b> Transfer Model-Target(Skinny)"
   ]
  },
  {
   "cell_type": "code",
   "execution_count": 25,
   "metadata": {},
   "outputs": [
    {
     "data": {
      "text/plain": [
       "array([0.64889238, 0.78705289, 0.85302734, 0.87695312, 0.88720703,\n",
       "       0.89428711, 0.89794922, 0.90063477, 0.90136719, 0.90161133])"
      ]
     },
     "execution_count": 25,
     "metadata": {},
     "output_type": "execute_result"
    }
   ],
   "source": [
    "# Main parameter initialization\n",
    "acc_total = []  # Stores accuracy results for each experiment\n",
    "p_v_box = np.zeros((16, 256))  # Initialize key guess matrix (16 bytes × 256 possible values)\n",
    "profiling_Data_path='../Dataset/AES_device2/'\n",
    "Target_Data_path='../Dataset/SKinny_device1/'\n",
    "model_path = '../Model/'\n",
    "\n",
    "# Initialize data structures\n",
    "pk_v_box = np.zeros((256, 256))  # Mapping from p^k to v (256 possible inputs × 256 possible outputs)\n",
    "p_v_box = np.zeros((16, 256))    # Mapping from plaintext to value (16 bytes × 256 possible values)\n",
    "acc_total = []  \n",
    "\n",
    "# Build ground truth reference for validation\n",
    "p_attack_to_label_total = []     # Stores true labels for each (byte, plaintext) pair\n",
    "for byte in range(16):           # Process all 16 bytes\n",
    "    # Load target device data\n",
    "    X_attack, label_V, p_attack = load_CW_Target(\n",
    "        in_file=Target_Data_path,\n",
    "        byte=byte\n",
    "    )\n",
    "    # Create mapping: {plaintext → true_label} for accuracy verification\n",
    "    p_attack_to_label_total.append({\n",
    "        p: np.unique(label_V[p_attack == p])  # Get consensus label for each plaintext\n",
    "        for p in range(256)                   # All possible plaintext values (0-255)\n",
    "    })\n",
    "\n",
    "# Load pre-trained models\n",
    "models = []\n",
    "for byte in range(0,16):\n",
    "    clear_session()\n",
    "    tf.keras.backend.clear_session()\n",
    "    model_name = f'Transfer_Model_byte{byte}.h5'\n",
    "    # model_name = f'byte{byte}.h5'\n",
    "    \n",
    "    cfg = config(pre_model_path=model_path + model_name)\n",
    "    dann = DANN(cfg)  \n",
    "    models.append(dann)  \n",
    "\n",
    "TransferModel_ACC=Evalution_CUA(models,profiling_Data_path,Target_Data_path,p_attack_to_label_total,p_v_box,1)\n",
    "\n",
    "TransferModel_Skinny_ACC_avg = np.mean(np.array(TransferModel_ACC), axis=1)\n",
    "TransferModel_Skinny_ACC_avg"
   ]
  },
  {
   "cell_type": "markdown",
   "metadata": {},
   "source": [
    "<b>Result"
   ]
  },
  {
   "cell_type": "code",
   "execution_count": 26,
   "metadata": {},
   "outputs": [
    {
     "data": {
      "image/png": "[encoded data removed]",
      "text/plain": [
       "<Figure size 640x480 with 1 Axes>"
      ]
     },
     "metadata": {},
     "output_type": "display_data"
    }
   ],
   "source": [
    "import matplotlib.pyplot as plt\n",
    "from matplotlib import cm  # 用于颜色映射\n",
    "\n",
    "\n",
    "colors = cm.get_cmap(\"tab20\", 16)\n",
    "\n",
    "# 定义不同的标记样式\n",
    "markers = ['o', 's', 'D', '^', 'v', 'p', '*', 'X', '+', '>', '<', '8', 'H', '1', '2','3']\n",
    "\n",
    "x=np.arange(1000,10001,1000)\n",
    "\n",
    "\n",
    "plt.plot(x, SourceModel_SM4_ACC_avg, label='Source Model-Target(SM4)', marker=markers[0], markersize=6, color=colors(0))\n",
    "plt.plot(x, SourceModel_Skinny_ACC_avg, label='Source Model-Target(SKINNY)', marker=markers[1], markersize=6, color=colors(1))\n",
    "plt.plot(x, TransferModel_SM4_ACC_avg, label='Transfer Model-Target(SM4)', marker=markers[2], markersize=6, color=colors(2))\n",
    "plt.plot(x, TransferModel_Skinny_ACC_avg, label='Transfer Model-Target(SKINNY)', marker=markers[3], markersize=6, color=colors(3))\n",
    "\n",
    "\n",
    "plt.grid(True)\n",
    "plt.xlabel('Number of Traces', fontsize=16)\n",
    "plt.ylabel('Cumulative Accuracy', fontsize=16)\n",
    "plt.tick_params(labelsize=14)\n",
    "plt.legend(fontsize=11)\n",
    "\n",
    "\n",
    "plt.tight_layout()  # 自动调整布局以避免重叠\n",
    "plt.savefig('CA_AC_copies.pdf')\n",
    "\n",
    "\n",
    "plt.show()\n"
   ]
  }
 ],
 "metadata": {
  "kernelspec": {
   "display_name": "TF-krease",
   "language": "python",
   "name": "python3"
  },
  "language_info": {
   "codemirror_mode": {
    "name": "ipython",
    "version": 3
   },
   "file_extension": ".py",
   "mimetype": "text/x-python",
   "name": "python",
   "nbconvert_exporter": "python",
   "pygments_lexer": "ipython3",
   "version": "3.8.15"
  }
 },
 "nbformat": 4,
 "nbformat_minor": 2
}
